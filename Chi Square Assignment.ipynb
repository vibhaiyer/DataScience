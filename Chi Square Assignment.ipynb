{
 "cells": [
  {
   "cell_type": "markdown",
   "metadata": {},
   "source": [
    "####Write confusion matrix in CSV file with following condition1 :\n",
    "1. Heading and 1st column should be class name\n",
    "2. The data goes row wise i.e. 1st row will have detail of class1 classified to which classes"
   ]
  },
  {
   "cell_type": "code",
   "execution_count": 3,
   "metadata": {},
   "outputs": [
    {
     "name": "stdout",
     "output_type": "stream",
     "text": [
      "['Media', 'S', 'E']\n",
      "[[nan nan nan nan]\n",
      " [nan 26. 13.  5.]\n",
      " [nan 20. 29.  7.]]\n",
      "[[26. 13.  5.]\n",
      " [20. 29.  7.]]\n"
     ]
    }
   ],
   "source": [
    "import numpy as np\n",
    "import pandas as pd\n",
    "from numpy import genfromtxt\n",
    "\n",
    "evaluation = pd.read_csv(\"evaluation.csv\", header = 0)\n",
    "evaluation= evaluation.drop(evaluation.columns[0], axis = 1)\n",
    "classes = list(evaluation.columns)\n",
    "print(classes)\n",
    "\n",
    "evaluation = genfromtxt('evaluation.csv', delimiter=',')\n",
    "print(evaluation)\n",
    "\n",
    "\n",
    "evaluation = np.delete(evaluation, 0, 0)\n",
    "evaluation = np.delete(evaluation, 0, 1)\n",
    "print(evaluation)\n",
    "\n",
    "Observed = evaluation"
   ]
  },
  {
   "cell_type": "code",
   "execution_count": 4,
   "metadata": {},
   "outputs": [
    {
     "name": "stdout",
     "output_type": "stream",
     "text": [
      "Expected Matrix : \n",
      " [[20.24 18.48  5.28]\n",
      " [25.76 23.52  6.72]]\n",
      "Chi Square(Xsqr) Matrix : \n",
      " [[1.63920949 1.62502165 0.01484848]\n",
      " [1.28795031 1.27680272 0.01166667]]\n",
      "Chi Square:  5.855499314350247\n",
      "We accept Null hypothesis\n"
     ]
    }
   ],
   "source": [
    "Expected = np.empty_like(Observed)\n",
    "total = np.sum(Observed)\n",
    "for idx, x in np.ndenumerate(Observed):\n",
    "    Expected[idx] = ((sum(Observed[idx[0]]))*(sum(Observed[...,idx[1]])))/total\n",
    "print(\"Expected Matrix : \\n\", Expected)\n",
    "\n",
    "X_square = np.empty_like(Observed)\n",
    "for idx, x in np.ndenumerate(Observed):\n",
    "    X_square[idx] = (Observed[idx]-Expected[idx])**2/(Expected[idx]) \n",
    "print(\"Chi Square(Xsqr) Matrix : \\n\", X_square)\n",
    "chi_square = np.sum(X_square)\n",
    "print(\"Chi Square: \",chi_square)\n",
    "\n",
    "#Degree of Freedom =(Number of Rows-1)*(Number Of Columns-1)\n",
    "#Find XCrtitical from Chi square table where DF=2 and p=0.05 get value\n",
    "Xcritical=5.991 #---------------------------------------------------------Change HEre \n",
    "if(chi_square<Xcritical):\n",
    "    print(\"We accept Null hypothesis\")\n",
    "else:\n",
    "    print(\"We Reject Null hypothesis\")"
   ]
  }
 ],
 "metadata": {
  "kernelspec": {
   "display_name": "Python 3",
   "language": "python",
   "name": "python3"
  },
  "language_info": {
   "codemirror_mode": {
    "name": "ipython",
    "version": 3
   },
   "file_extension": ".py",
   "mimetype": "text/x-python",
   "name": "python",
   "nbconvert_exporter": "python",
   "pygments_lexer": "ipython3",
   "version": "3.8.3"
  }
 },
 "nbformat": 4,
 "nbformat_minor": 4
}
