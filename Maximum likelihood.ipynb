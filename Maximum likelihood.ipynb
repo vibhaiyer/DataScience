{
 "cells": [
  {
   "cell_type": "code",
   "execution_count": 2,
   "metadata": {},
   "outputs": [
    {
     "name": "stdout",
     "output_type": "stream",
     "text": [
      "MEAN is : 9.166666666666666\n",
      "STD Deviation is : 3.0605010483034745\n"
     ]
    }
   ],
   "source": [
    "\n",
    "#MAximum Likelihood for Normal distribution\n",
    "import statistics ,math\n",
    "sample_data=[12,7,5,8,13,10]\n",
    "n = len(sample_data)\n",
    "mean_data=statistics.mean(sample_data)\n",
    "stddev_data=statistics.stdev(sample_data)\n",
    "print(\"MEAN is :\", mean_data)\n",
    "print(\"STD Deviation is :\", stddev_data)"
   ]
  },
  {
   "cell_type": "code",
   "execution_count": 3,
   "metadata": {},
   "outputs": [
    {
     "name": "stdout",
     "output_type": "stream",
     "text": [
      "Parameter MEAN is : 9.166666666666666\n",
      "Parameter STD Deviation is : 2.7938424357067015\n"
     ]
    }
   ],
   "source": [
    "parameter_mean = mean_data\n",
    "total =0\n",
    "for every_val in sample_data :\n",
    "    diff = every_val - parameter_mean\n",
    "    sqr = diff**2\n",
    "    total = total + sqr\n",
    "parameter_stddev = math.sqrt(total/n)\n",
    "print(\"Parameter MEAN is :\", parameter_mean)\n",
    "print(\"Parameter STD Deviation is :\", parameter_stddev)"
   ]
  },
  {
   "cell_type": "code",
   "execution_count": null,
   "metadata": {},
   "outputs": [],
   "source": []
  }
 ],
 "metadata": {
  "kernelspec": {
   "display_name": "Python 3",
   "language": "python",
   "name": "python3"
  },
  "language_info": {
   "codemirror_mode": {
    "name": "ipython",
    "version": 3
   },
   "file_extension": ".py",
   "mimetype": "text/x-python",
   "name": "python",
   "nbconvert_exporter": "python",
   "pygments_lexer": "ipython3",
   "version": "3.8.5"
  }
 },
 "nbformat": 4,
 "nbformat_minor": 4
}
